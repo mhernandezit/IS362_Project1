{
 "cells": [
  {
   "cell_type": "code",
   "execution_count": 7,
   "metadata": {},
   "outputs": [
    {
     "name": "stdout",
     "output_type": "stream",
     "text": [
      "   Airline           City  On time  Delayed\n",
      "0   Alaska    Los Angeles      497       62\n",
      "1   Alaska        Phoenix      221       12\n",
      "2   Alaska      San Diego      212       20\n",
      "3   Alaska  San Francisco      503      102\n",
      "4   Alaska        Seattle     1841      305\n",
      "5  AM West    Los Angeles      694      117\n",
      "6  AM West        Phoenix     4840      415\n",
      "7  AM West      San Diego      383       65\n",
      "8  AM West  San Francisco      320      129\n",
      "9  AM West        Seattle      201       61\n"
     ]
    }
   ],
   "source": [
    "import pandas as pd\n",
    "\n",
    "data = pd.read_csv('data.csv')\n",
    "print(data)\n"
   ]
  },
  {
   "cell_type": "code",
   "execution_count": null,
   "metadata": {},
   "outputs": [],
   "source": []
  }
 ],
 "metadata": {
  "kernelspec": {
   "display_name": "Python 3",
   "language": "python",
   "name": "python3"
  },
  "language_info": {
   "codemirror_mode": {
    "name": "ipython",
    "version": 3
   },
   "file_extension": ".py",
   "mimetype": "text/x-python",
   "name": "python",
   "nbconvert_exporter": "python",
   "pygments_lexer": "ipython3",
   "version": "3.7.1"
  }
 },
 "nbformat": 4,
 "nbformat_minor": 2
}
