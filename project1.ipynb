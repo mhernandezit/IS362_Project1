{
 "cells": [
  {
   "cell_type": "markdown",
   "metadata": {},
   "source": [
    "# SQL 362 - Project 1\n",
    "# Analyzing CSV data in Pandas\n",
    "# Michael Hernandez\n",
    "\n",
    "Part 1, creating the CSV file.\n",
    "\n",
    "I built a SQL DB to export out the data to a data.csv file that I've exported to the same folder as my notebook.  The first part of the program is importing that data into a dataframe:"
   ]
  },
  {
   "cell_type": "code",
   "execution_count": 1,
   "metadata": {
    "scrolled": true
   },
   "outputs": [
    {
     "name": "stdout",
     "output_type": "stream",
     "text": [
      "                  City  On_time  Delayed\n",
      "Airline                                 \n",
      "Alaska     Los Angeles      497       62\n",
      "Alaska         Phoenix      221       12\n",
      "Alaska       San Diego      212       20\n",
      "Alaska   San Francisco      503      102\n",
      "Alaska         Seattle     1841      305\n",
      "AM West    Los Angeles      694      117\n",
      "AM West        Phoenix     4840      415\n",
      "AM West      San Diego      383       65\n",
      "AM West  San Francisco      320      129\n",
      "AM West        Seattle      201       61\n"
     ]
    }
   ],
   "source": [
    "import pandas as pd\n",
    "\n",
    "data = pd.read_csv('data.csv', index_col='Airline')\n",
    "print(data)"
   ]
  },
  {
   "cell_type": "markdown",
   "metadata": {},
   "source": [
    "Good, we have the data imported into a dataframe.  Now I want to insert some extra fields to calculate both the total flights, and also a % delayed column.  "
   ]
  },
  {
   "cell_type": "code",
   "execution_count": 2,
   "metadata": {},
   "outputs": [
    {
     "name": "stdout",
     "output_type": "stream",
     "text": [
      "                  City  On_time  Delayed  Total_Time  Percent_Delayed_Flights\n",
      "Airline                                                                      \n",
      "Alaska     Los Angeles      497       62         559                 0.110912\n",
      "Alaska         Phoenix      221       12         233                 0.051502\n",
      "Alaska       San Diego      212       20         232                 0.086207\n",
      "Alaska   San Francisco      503      102         605                 0.168595\n",
      "Alaska         Seattle     1841      305        2146                 0.142125\n",
      "AM West    Los Angeles      694      117         811                 0.144266\n",
      "AM West        Phoenix     4840      415        5255                 0.078972\n",
      "AM West      San Diego      383       65         448                 0.145089\n",
      "AM West  San Francisco      320      129         449                 0.287305\n",
      "AM West        Seattle      201       61         262                 0.232824\n"
     ]
    }
   ],
   "source": [
    "workingData = data.copy()\n",
    "workingData.insert(3, 'Total_Time', data.On_time + data.Delayed)\n",
    "workingData.insert(4, 'Percent_Delayed_Flights', (data.Delayed / workingData.Total_Time))\n",
    "print(workingData)"
   ]
  },
  {
   "cell_type": "markdown",
   "metadata": {},
   "source": [
    "Let's format the Percent Delayed flights column so it looks a little more readable. "
   ]
  },
  {
   "cell_type": "code",
   "execution_count": 3,
   "metadata": {},
   "outputs": [
    {
     "name": "stdout",
     "output_type": "stream",
     "text": [
      "                  City  On_time  Delayed  Total_Time  Percent_Delayed_Flights\n",
      "Airline                                                                      \n",
      "Alaska     Los Angeles      497       62         559                    0.11%\n",
      "Alaska         Phoenix      221       12         233                    0.05%\n",
      "Alaska       San Diego      212       20         232                    0.09%\n",
      "Alaska   San Francisco      503      102         605                    0.17%\n",
      "Alaska         Seattle     1841      305        2146                    0.14%\n",
      "AM West    Los Angeles      694      117         811                    0.14%\n",
      "AM West        Phoenix     4840      415        5255                    0.08%\n",
      "AM West      San Diego      383       65         448                    0.15%\n",
      "AM West  San Francisco      320      129         449                    0.29%\n",
      "AM West        Seattle      201       61         262                    0.23%\n"
     ]
    }
   ],
   "source": [
    "pd.options.display.float_format = '{:.2f}%'.format\n",
    "print(workingData)"
   ]
  },
  {
   "cell_type": "markdown",
   "metadata": {},
   "source": [
    "Much more readable.  Now that we have all of this extra data, we can start to do some meaningful comparisons.  Let's see which Airline has the lowest percentage of delayed flights to Los Angeles:"
   ]
  },
  {
   "cell_type": "code",
   "execution_count": 4,
   "metadata": {},
   "outputs": [
    {
     "data": {
      "text/html": [
       "<div>\n",
       "<style scoped>\n",
       "    .dataframe tbody tr th:only-of-type {\n",
       "        vertical-align: middle;\n",
       "    }\n",
       "\n",
       "    .dataframe tbody tr th {\n",
       "        vertical-align: top;\n",
       "    }\n",
       "\n",
       "    .dataframe thead th {\n",
       "        text-align: right;\n",
       "    }\n",
       "</style>\n",
       "<table border=\"1\" class=\"dataframe\">\n",
       "  <thead>\n",
       "    <tr style=\"text-align: right;\">\n",
       "      <th></th>\n",
       "      <th>City</th>\n",
       "      <th>On_time</th>\n",
       "      <th>Delayed</th>\n",
       "      <th>Total_Time</th>\n",
       "      <th>Percent_Delayed_Flights</th>\n",
       "    </tr>\n",
       "    <tr>\n",
       "      <th>Airline</th>\n",
       "      <th></th>\n",
       "      <th></th>\n",
       "      <th></th>\n",
       "      <th></th>\n",
       "      <th></th>\n",
       "    </tr>\n",
       "  </thead>\n",
       "  <tbody>\n",
       "    <tr>\n",
       "      <th>Alaska</th>\n",
       "      <td>Los Angeles</td>\n",
       "      <td>497</td>\n",
       "      <td>62</td>\n",
       "      <td>559</td>\n",
       "      <td>0.11%</td>\n",
       "    </tr>\n",
       "    <tr>\n",
       "      <th>AM West</th>\n",
       "      <td>Los Angeles</td>\n",
       "      <td>694</td>\n",
       "      <td>117</td>\n",
       "      <td>811</td>\n",
       "      <td>0.14%</td>\n",
       "    </tr>\n",
       "  </tbody>\n",
       "</table>\n",
       "</div>"
      ],
      "text/plain": [
       "                City  On_time  Delayed  Total_Time  Percent_Delayed_Flights\n",
       "Airline                                                                    \n",
       "Alaska   Los Angeles      497       62         559                    0.11%\n",
       "AM West  Los Angeles      694      117         811                    0.14%"
      ]
     },
     "execution_count": 4,
     "metadata": {},
     "output_type": "execute_result"
    }
   ],
   "source": [
    "workingData.loc[workingData['City']=='Los Angeles']"
   ]
  },
  {
   "cell_type": "markdown",
   "metadata": {},
   "source": [
    "Now, let's see how many Airline/City combinations have over 20% of their flights delayed:"
   ]
  },
  {
   "cell_type": "code",
   "execution_count": 5,
   "metadata": {},
   "outputs": [
    {
     "data": {
      "text/plain": [
       "'Alaska'"
      ]
     },
     "execution_count": 5,
     "metadata": {},
     "output_type": "execute_result"
    }
   ],
   "source": [
    "workingData.loc[workingData['Percent_Delayed_Flights'] > .20]"
   ]
  },
  {
   "cell_type": "markdown",
   "metadata": {},
   "source": [
    "It looks like AM West has some of the Highest Average delayed flights.\n",
    "How about we find out what is the least delayed flight?  \n",
    "To do that, I'm going to re-index the dataframe around the Percent_Delayed_Flights series:"
   ]
  },
  {
   "cell_type": "code",
   "execution_count": 6,
   "metadata": {},
   "outputs": [
    {
     "data": {
      "text/html": [
       "<div>\n",
       "<style scoped>\n",
       "    .dataframe tbody tr th:only-of-type {\n",
       "        vertical-align: middle;\n",
       "    }\n",
       "\n",
       "    .dataframe tbody tr th {\n",
       "        vertical-align: top;\n",
       "    }\n",
       "\n",
       "    .dataframe thead th {\n",
       "        text-align: right;\n",
       "    }\n",
       "</style>\n",
       "<table border=\"1\" class=\"dataframe\">\n",
       "  <thead>\n",
       "    <tr style=\"text-align: right;\">\n",
       "      <th></th>\n",
       "      <th></th>\n",
       "      <th>City</th>\n",
       "      <th>On_time</th>\n",
       "      <th>Delayed</th>\n",
       "      <th>Total_Time</th>\n",
       "    </tr>\n",
       "    <tr>\n",
       "      <th>Airline</th>\n",
       "      <th>Percent_Delayed_Flights</th>\n",
       "      <th></th>\n",
       "      <th></th>\n",
       "      <th></th>\n",
       "      <th></th>\n",
       "    </tr>\n",
       "  </thead>\n",
       "  <tbody>\n",
       "    <tr>\n",
       "      <th rowspan=\"5\" valign=\"top\">Alaska</th>\n",
       "      <th>0.11%</th>\n",
       "      <td>Los Angeles</td>\n",
       "      <td>497</td>\n",
       "      <td>62</td>\n",
       "      <td>559</td>\n",
       "    </tr>\n",
       "    <tr>\n",
       "      <th>0.05%</th>\n",
       "      <td>Phoenix</td>\n",
       "      <td>221</td>\n",
       "      <td>12</td>\n",
       "      <td>233</td>\n",
       "    </tr>\n",
       "    <tr>\n",
       "      <th>0.09%</th>\n",
       "      <td>San Diego</td>\n",
       "      <td>212</td>\n",
       "      <td>20</td>\n",
       "      <td>232</td>\n",
       "    </tr>\n",
       "    <tr>\n",
       "      <th>0.17%</th>\n",
       "      <td>San Francisco</td>\n",
       "      <td>503</td>\n",
       "      <td>102</td>\n",
       "      <td>605</td>\n",
       "    </tr>\n",
       "    <tr>\n",
       "      <th>0.14%</th>\n",
       "      <td>Seattle</td>\n",
       "      <td>1841</td>\n",
       "      <td>305</td>\n",
       "      <td>2146</td>\n",
       "    </tr>\n",
       "    <tr>\n",
       "      <th rowspan=\"5\" valign=\"top\">AM West</th>\n",
       "      <th>0.14%</th>\n",
       "      <td>Los Angeles</td>\n",
       "      <td>694</td>\n",
       "      <td>117</td>\n",
       "      <td>811</td>\n",
       "    </tr>\n",
       "    <tr>\n",
       "      <th>0.08%</th>\n",
       "      <td>Phoenix</td>\n",
       "      <td>4840</td>\n",
       "      <td>415</td>\n",
       "      <td>5255</td>\n",
       "    </tr>\n",
       "    <tr>\n",
       "      <th>0.15%</th>\n",
       "      <td>San Diego</td>\n",
       "      <td>383</td>\n",
       "      <td>65</td>\n",
       "      <td>448</td>\n",
       "    </tr>\n",
       "    <tr>\n",
       "      <th>0.29%</th>\n",
       "      <td>San Francisco</td>\n",
       "      <td>320</td>\n",
       "      <td>129</td>\n",
       "      <td>449</td>\n",
       "    </tr>\n",
       "    <tr>\n",
       "      <th>0.23%</th>\n",
       "      <td>Seattle</td>\n",
       "      <td>201</td>\n",
       "      <td>61</td>\n",
       "      <td>262</td>\n",
       "    </tr>\n",
       "  </tbody>\n",
       "</table>\n",
       "</div>"
      ],
      "text/plain": [
       "                                          City  On_time  Delayed  Total_Time\n",
       "Airline Percent_Delayed_Flights                                             \n",
       "Alaska  0.11%                      Los Angeles      497       62         559\n",
       "        0.05%                          Phoenix      221       12         233\n",
       "        0.09%                        San Diego      212       20         232\n",
       "        0.17%                    San Francisco      503      102         605\n",
       "        0.14%                          Seattle     1841      305        2146\n",
       "AM West 0.14%                      Los Angeles      694      117         811\n",
       "        0.08%                          Phoenix     4840      415        5255\n",
       "        0.15%                        San Diego      383       65         448\n",
       "        0.29%                    San Francisco      320      129         449\n",
       "        0.23%                          Seattle      201       61         262"
      ]
     },
     "execution_count": 6,
     "metadata": {},
     "output_type": "execute_result"
    }
   ],
   "source": [
    "workingData.set_index('Percent_Delayed_Flights', append=True)"
   ]
  },
  {
   "cell_type": "markdown",
   "metadata": {},
   "source": [
    "Now, when we run a min on the dataframe, we're going to pull the full data of the lowest Percent_Delayed_Flights item, in our case it's exactly what we are looking for:"
   ]
  },
  {
   "cell_type": "code",
   "execution_count": 7,
   "metadata": {},
   "outputs": [
    {
     "data": {
      "text/plain": [
       "'Alaska'"
      ]
     },
     "execution_count": 7,
     "metadata": {},
     "output_type": "execute_result"
    }
   ],
   "source": [
    "workingData['Percent_Delayed_Flights'].idxmin()"
   ]
  },
  {
   "cell_type": "markdown",
   "metadata": {},
   "source": [
    "Alaska Air has the least % of delayed flights overall.  "
   ]
  }
 ],
 "metadata": {
  "kernelspec": {
   "display_name": "Python 3",
   "language": "python",
   "name": "python3"
  },
  "language_info": {
   "codemirror_mode": {
    "name": "ipython",
    "version": 3
   },
   "file_extension": ".py",
   "mimetype": "text/x-python",
   "name": "python",
   "nbconvert_exporter": "python",
   "pygments_lexer": "ipython3",
   "version": "3.7.1"
  }
 },
 "nbformat": 4,
 "nbformat_minor": 2
}
